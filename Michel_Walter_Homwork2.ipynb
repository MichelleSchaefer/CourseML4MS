{
  "nbformat": 4,
  "nbformat_minor": 0,
  "metadata": {
    "colab": {
      "name": "Michel Walter_Homwork2.ipynb",
      "provenance": [],
      "collapsed_sections": [],
      "authorship_tag": "ABX9TyMS/dIdKxHIEGCV0rk8iH22",
      "include_colab_link": true
    },
    "kernelspec": {
      "name": "python3",
      "display_name": "Python 3"
    },
    "language_info": {
      "name": "python"
    }
  },
  "cells": [
    {
      "cell_type": "markdown",
      "metadata": {
        "id": "view-in-github",
        "colab_type": "text"
      },
      "source": [
        "<a href=\"https://colab.research.google.com/github/MichaelPWalter/CourseML4MS/blob/main/Michel_Walter_Homwork2.ipynb\" target=\"_parent\"><img src=\"https://colab.research.google.com/assets/colab-badge.svg\" alt=\"Open In Colab\"/></a>"
      ]
    },
    {
      "cell_type": "markdown",
      "source": [
        "1. Creating Matrix"
      ],
      "metadata": {
        "id": "YtkAAF-2mDmT"
      }
    },
    {
      "cell_type": "code",
      "execution_count": 33,
      "metadata": {
        "id": "FbrqxyZHbWb4"
      },
      "outputs": [],
      "source": [
        "import numpy as np\n",
        "pi = np.pi\n",
        "\n",
        "x=0\n",
        "y=0\n",
        "\n",
        "def F(x,y):\n",
        "  Element=np.exp(complex(0,y))+2*np.exp(complex(0,-y/2))*np.cos(np.sqrt(3/4)*x)\n",
        "  return complex(Element)\n",
        "\n",
        "def Matrix(x,y):\n",
        "  Array = np.array([[0,F(x,y)],[np.conj(F(x,y)),0]])\n",
        "  return Array\n",
        "\n",
        "#Matrix = Matrix(x,y)"
      ]
    },
    {
      "cell_type": "markdown",
      "source": [
        "2. Generate grid (x,y) for x,y = [-pi,pi]\n",
        "\n",
        "3. Calculate the Matrix for each point (x,y)\n",
        "\n",
        "4. Caluclate the Eigenvalues of Matrix at each point and diagonilize"
      ],
      "metadata": {
        "id": "dDUuRnjUmHVt"
      }
    },
    {
      "cell_type": "code",
      "source": [
        "import matplotlib.pyplot as plt\n",
        "\n",
        "x_start = -pi\n",
        "x_stop = -x_start\n",
        "\n",
        "y_start = -pi\n",
        "y_stop = -y_start\n",
        "\n",
        "size = 10      #10 = 10x10\n",
        "\n",
        "\n",
        "x = np.linspace(x_start,x_stop,size)\n",
        "y = np.linspace(y_start,y_stop,size)\n",
        "\n",
        "\n",
        "\n",
        "for i in x:\n",
        "  for j in y:\n",
        "    A=Matrix(i,j)\n",
        "    print(np.linalg.eig(A))\n",
        "\n",
        "## I could not get the Matrix to use the x and y values from a grid\n",
        "### I would need an array that has the (x,y) coordinates, the Matrix,\n",
        "### the diagonalized Matrix and 2 eignevalues all in one entry\n",
        "### 2 Dimensions for poistion and multiple dimensions for data\n",
        "## Techniacally a csv file could be created with muliple columns\n",
        "\n",
        "\n",
        "#Vec_Matrix=np.vectorize(Matrix)\n",
        "#A = Vec_Matrix(x,0)\n",
        "#A = np.array(x,y,Matrix(x.astype(float),y.astype(float)))\n",
        "\n",
        "\n",
        "\n",
        "#xx,yy = np.meshgrid(x,y)\n",
        "\n",
        "\n"
      ],
      "metadata": {
        "colab": {
          "base_uri": "https://localhost:8080/",
          "height": 245
        },
        "id": "GX_ZiKzgmWhX",
        "outputId": "2d2ac8e4-bc99-486b-d3ab-e4b20ad1fd03"
      },
      "execution_count": 75,
      "outputs": [
        {
          "output_type": "error",
          "ename": "TypeError",
          "evalue": "ignored",
          "traceback": [
            "\u001b[0;31m---------------------------------------------------------------------------\u001b[0m",
            "\u001b[0;31mTypeError\u001b[0m                                 Traceback (most recent call last)",
            "\u001b[0;32m<ipython-input-75-24bdd545c677>\u001b[0m in \u001b[0;36m<module>\u001b[0;34m()\u001b[0m\n\u001b[1;32m     13\u001b[0m \u001b[0my\u001b[0m \u001b[0;34m=\u001b[0m \u001b[0mnp\u001b[0m\u001b[0;34m.\u001b[0m\u001b[0mlinspace\u001b[0m\u001b[0;34m(\u001b[0m\u001b[0my_start\u001b[0m\u001b[0;34m,\u001b[0m\u001b[0my_stop\u001b[0m\u001b[0;34m,\u001b[0m\u001b[0msize\u001b[0m\u001b[0;34m)\u001b[0m\u001b[0;34m\u001b[0m\u001b[0;34m\u001b[0m\u001b[0m\n\u001b[1;32m     14\u001b[0m \u001b[0;34m\u001b[0m\u001b[0m\n\u001b[0;32m---> 15\u001b[0;31m \u001b[0mArray_XY\u001b[0m \u001b[0;34m=\u001b[0m \u001b[0mnp\u001b[0m\u001b[0;34m.\u001b[0m\u001b[0marray\u001b[0m\u001b[0;34m(\u001b[0m\u001b[0mx\u001b[0m\u001b[0;34m,\u001b[0m\u001b[0my\u001b[0m\u001b[0;34m)\u001b[0m\u001b[0;34m\u001b[0m\u001b[0;34m\u001b[0m\u001b[0m\n\u001b[0m\u001b[1;32m     16\u001b[0m \u001b[0mArray_XY\u001b[0m\u001b[0;34m\u001b[0m\u001b[0;34m\u001b[0m\u001b[0m\n\u001b[1;32m     17\u001b[0m \u001b[0;32mfor\u001b[0m \u001b[0mi\u001b[0m \u001b[0;32min\u001b[0m \u001b[0mx\u001b[0m\u001b[0;34m:\u001b[0m\u001b[0;34m\u001b[0m\u001b[0;34m\u001b[0m\u001b[0m\n",
            "\u001b[0;31mTypeError\u001b[0m: Cannot construct a dtype from an array"
          ]
        }
      ]
    },
    {
      "cell_type": "markdown",
      "source": [
        "3. Evaluate M for each gridpoint"
      ],
      "metadata": {
        "id": "mlSAdzVXqq2b"
      }
    },
    {
      "cell_type": "code",
      "source": [
        "for x,y in Grid\n"
      ],
      "metadata": {
        "colab": {
          "base_uri": "https://localhost:8080/",
          "height": 190
        },
        "id": "Hij6e2SsqmBw",
        "outputId": "cf63d2fd-5fd1-4533-a616-ba660e4d1955"
      },
      "execution_count": 43,
      "outputs": [
        {
          "output_type": "error",
          "ename": "TypeError",
          "evalue": "ignored",
          "traceback": [
            "\u001b[0;31m---------------------------------------------------------------------------\u001b[0m",
            "\u001b[0;31mTypeError\u001b[0m                                 Traceback (most recent call last)",
            "\u001b[0;32m<ipython-input-43-6eba32979f9c>\u001b[0m in \u001b[0;36m<module>\u001b[0;34m()\u001b[0m\n\u001b[0;32m----> 1\u001b[0;31m \u001b[0mM\u001b[0m \u001b[0;34m=\u001b[0m \u001b[0mMatrix\u001b[0m\u001b[0;34m(\u001b[0m\u001b[0mxx\u001b[0m\u001b[0;34m)\u001b[0m\u001b[0;34m\u001b[0m\u001b[0;34m\u001b[0m\u001b[0m\n\u001b[0m\u001b[1;32m      2\u001b[0m \u001b[0mh\u001b[0m\u001b[0;34m=\u001b[0m \u001b[0mplt\u001b[0m\u001b[0;34m.\u001b[0m\u001b[0mcountourf\u001b[0m\u001b[0;34m(\u001b[0m\u001b[0mxx\u001b[0m\u001b[0;34m,\u001b[0m\u001b[0myy\u001b[0m\u001b[0;34m,\u001b[0m\u001b[0mM\u001b[0m\u001b[0;34m)\u001b[0m\u001b[0;34m\u001b[0m\u001b[0;34m\u001b[0m\u001b[0m\n",
            "\u001b[0;31mTypeError\u001b[0m: Matrix() missing 1 required positional argument: 'y'"
          ]
        }
      ]
    }
  ]
}
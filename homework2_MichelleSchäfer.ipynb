{
  "cells": [
    {
      "cell_type": "markdown",
      "id": "2bc07e5f",
      "metadata": {
        "id": "2bc07e5f"
      },
      "source": [
        "Solutions for the tasks of the homework from week 2."
      ]
    },
    {
      "cell_type": "code",
      "execution_count": 2,
      "id": "7ee05fe7",
      "metadata": {
        "colab": {
          "base_uri": "https://localhost:8080/"
        },
        "id": "7ee05fe7",
        "outputId": "7c64dd70-231e-426b-978b-f3fe8676b88a"
      },
      "outputs": [
        {
          "output_type": "stream",
          "name": "stdout",
          "text": [
            "[[0 <function F at 0x7f23aea55050>]\n",
            " [<function F1 at 0x7f23aea55cb0> 0]]\n"
          ]
        }
      ],
      "source": [
        "import numpy as np\n",
        "from numpy import linalg\n",
        "\n",
        "def F (x,y):\n",
        "    F = np.exp(1j*yy) + 2*np.exp(-1j*yy/2)*np.cos(np.sqrt(3)/2*xx)\n",
        "\n",
        "def F1 (x,y):            #F* in task\n",
        "    F1 = np.conjugate(F)\n",
        "\n",
        "M = np.matrix([(0,F), (F1,0)])\n",
        "print(M)"
      ]
    },
    {
      "cell_type": "markdown",
      "id": "3f579111",
      "metadata": {
        "id": "3f579111"
      },
      "source": [
        "Task 1"
      ]
    },
    {
      "cell_type": "code",
      "execution_count": null,
      "id": "0eee321f",
      "metadata": {
        "id": "0eee321f"
      },
      "outputs": [],
      "source": [
        "pi = np.pi\n",
        "#pi = 3.141\n",
        "\n",
        "grid1 = np.mgrid[-pi:pi:10j,-pi:pi:10j]\n",
        "\n",
        "print(grid1)"
      ]
    },
    {
      "cell_type": "markdown",
      "source": [
        "For F:"
      ],
      "metadata": {
        "id": "mo-bWfQuD3f_"
      },
      "id": "mo-bWfQuD3f_"
    },
    {
      "cell_type": "code",
      "execution_count": 4,
      "id": "60baaf04",
      "metadata": {
        "id": "60baaf04",
        "colab": {
          "base_uri": "https://localhost:8080/",
          "height": 323
        },
        "outputId": "f54b8572-6762-4d4b-fa95-3ee40a5a77bb"
      },
      "outputs": [
        {
          "output_type": "stream",
          "name": "stderr",
          "text": [
            "/usr/local/lib/python3.7/dist-packages/numpy/ma/core.py:2830: ComplexWarning: Casting complex values to real discards the imaginary part\n",
            "  order=order, subok=True, ndmin=ndmin)\n"
          ]
        },
        {
          "output_type": "execute_result",
          "data": {
            "text/plain": [
              "<matplotlib.colorbar.Colorbar at 0x7f23ae6d58d0>"
            ]
          },
          "metadata": {},
          "execution_count": 4
        },
        {
          "output_type": "display_data",
          "data": {
            "text/plain": [
              "<Figure size 432x288 with 2 Axes>"
            ],
            "image/png": "[encoded data removed]"
          },
          "metadata": {
            "needs_background": "light"
          }
        }
      ],
      "source": [
        "x = np.linspace(-pi, pi, 10)\n",
        "y = np.linspace(-pi, pi, 10)\n",
        "\n",
        "xx, yy = np.meshgrid(x,y)\n",
        "zz = np.exp(1j*yy) + 2*np.exp(-1j*yy/2)*np.cos(np.sqrt(3)/2*xx)\n",
        "\n",
        "import matplotlib.pyplot as plt\n",
        "h = plt.contourf(x, y, zz)\n",
        "plt.colorbar()"
      ]
    },
    {
      "cell_type": "markdown",
      "source": [
        "For F*:"
      ],
      "metadata": {
        "id": "ZHN194_JD8Vr"
      },
      "id": "ZHN194_JD8Vr"
    },
    {
      "cell_type": "code",
      "source": [
        "x = np.linspace(-pi, pi, 10)\n",
        "y = np.linspace(-pi, pi, 10)\n",
        "\n",
        "xx, yy = np.meshgrid(x,y)\n",
        "zz1 = np.conjugate(zz)\n",
        "\n",
        "h = plt.contourf(x, y, zz1)\n",
        "plt.colorbar()"
      ],
      "metadata": {
        "colab": {
          "base_uri": "https://localhost:8080/",
          "height": 323
        },
        "id": "9dGdCDzvEA1A",
        "outputId": "22363dba-c8d7-4075-fa64-31e11dd3f430"
      },
      "id": "9dGdCDzvEA1A",
      "execution_count": 5,
      "outputs": [
        {
          "output_type": "stream",
          "name": "stderr",
          "text": [
            "/usr/local/lib/python3.7/dist-packages/numpy/ma/core.py:2830: ComplexWarning: Casting complex values to real discards the imaginary part\n",
            "  order=order, subok=True, ndmin=ndmin)\n"
          ]
        },
        {
          "output_type": "execute_result",
          "data": {
            "text/plain": [
              "<matplotlib.colorbar.Colorbar at 0x7f23ae12f610>"
            ]
          },
          "metadata": {},
          "execution_count": 5
        },
        {
          "output_type": "display_data",
          "data": {
            "text/plain": [
              "<Figure size 432x288 with 2 Axes>"
            ],
            "image/png": "[encoded data removed]"
          },
          "metadata": {
            "needs_background": "light"
          }
        }
      ]
    },
    {
      "cell_type": "code",
      "source": [
        "M = np.matrix([(0,zz), (zz1,0)])\n",
        "print(M)\n",
        "\n",
        "import scipy as sc\n",
        "from scipy import linalg as la\n",
        "#eigval = np.linalg.eigvals(M)\n",
        "#eigval = la.eig(M)\n",
        "#eigval = la.eigvals(M)\n",
        "#Does not work (np versions because of 0 in matrix and la because it does not work with array)"
      ],
      "metadata": {
        "colab": {
          "base_uri": "https://localhost:8080/"
        },
        "id": "aWq-CErDE3bZ",
        "outputId": "1c1eb3e2-4654-46d3-d220-aa103990d793"
      },
      "id": "aWq-CErDE3bZ",
      "execution_count": 21,
      "outputs": [
        {
          "output_type": "stream",
          "name": "stdout",
          "text": [
            "[[0 array([[-1.        -1.8254484j , -1.        -1.03735422j,\n",
            "            -1.        +0.11852423j, -1.        +1.23238102j,\n",
            "            -1.        +1.9093086j , -1.        +1.9093086j ,\n",
            "            -1.        +1.23238102j, -1.        +0.11852423j,\n",
            "            -1.        -1.03735422j, -1.        -1.8254484j ],\n",
            "           [-1.39038457-2.358148j  , -1.12084048-1.61758172j,\n",
            "            -0.72550677-0.53141127j, -0.34454531+0.51527174j,\n",
            "            -0.11302244+1.15137559j, -0.11302244+1.15137559j,\n",
            "            -0.34454531+0.51527174j, -0.72550677-0.53141127j,\n",
            "            -1.12084048-1.61758172j, -1.39038457-2.358148j  ],\n",
            "           [-1.34702379-2.38318235j, -0.84044662-1.77946719j,\n",
            "            -0.09746227-0.89401293j,  0.61851107-0.04074912j,\n",
            "             1.05363173+0.47780749j,  1.05363173+0.47780749j,\n",
            "             0.61851107-0.04074912j, -0.09746227-0.89401293j,\n",
            "            -0.84044662-1.77946719j, -1.34702379-2.38318235j],\n",
            "           [-1.08088468-1.7787496j , -0.39837511-1.38470252j,\n",
            "             0.60264499-0.80676329j,  1.56727327-0.2498349j ,\n",
            "             2.15350975+0.08862889j,  2.15350975+0.08862889j,\n",
            "             1.56727327-0.2498349j ,  0.60264499-0.80676329j,\n",
            "            -0.39837511-1.38470252j, -1.08088468-1.7787496j ],\n",
            "           [-0.85802311-0.65900593j, -0.08190186-0.52215481j,\n",
            "             1.0564162 -0.32143863j,  2.153351  -0.12801943j,\n",
            "             2.81999453-0.01047219j,  2.81999453-0.01047219j,\n",
            "             2.153351  -0.12801943j,  1.0564162 -0.32143863j,\n",
            "            -0.08190186-0.52215481j, -0.85802311-0.65900593j],\n",
            "           [-0.85802311+0.65900593j, -0.08190186+0.52215481j,\n",
            "             1.0564162 +0.32143863j,  2.153351  +0.12801943j,\n",
            "             2.81999453+0.01047219j,  2.81999453+0.01047219j,\n",
            "             2.153351  +0.12801943j,  1.0564162 +0.32143863j,\n",
            "            -0.08190186+0.52215481j, -0.85802311+0.65900593j],\n",
            "           [-1.08088468+1.7787496j , -0.39837511+1.38470252j,\n",
            "             0.60264499+0.80676329j,  1.56727327+0.2498349j ,\n",
            "             2.15350975-0.08862889j,  2.15350975-0.08862889j,\n",
            "             1.56727327+0.2498349j ,  0.60264499+0.80676329j,\n",
            "            -0.39837511+1.38470252j, -1.08088468+1.7787496j ],\n",
            "           [-1.34702379+2.38318235j, -0.84044662+1.77946719j,\n",
            "            -0.09746227+0.89401293j,  0.61851107+0.04074912j,\n",
            "             1.05363173-0.47780749j,  1.05363173-0.47780749j,\n",
            "             0.61851107+0.04074912j, -0.09746227+0.89401293j,\n",
            "            -0.84044662+1.77946719j, -1.34702379+2.38318235j],\n",
            "           [-1.39038457+2.358148j  , -1.12084048+1.61758172j,\n",
            "            -0.72550677+0.53141127j, -0.34454531-0.51527174j,\n",
            "            -0.11302244-1.15137559j, -0.11302244-1.15137559j,\n",
            "            -0.34454531-0.51527174j, -0.72550677+0.53141127j,\n",
            "            -1.12084048+1.61758172j, -1.39038457+2.358148j  ],\n",
            "           [-1.        +1.8254484j , -1.        +1.03735422j,\n",
            "            -1.        -0.11852423j, -1.        -1.23238102j,\n",
            "            -1.        -1.9093086j , -1.        -1.9093086j ,\n",
            "            -1.        -1.23238102j, -1.        -0.11852423j,\n",
            "            -1.        +1.03735422j, -1.        +1.8254484j ]])]\n",
            " [array([[-1.        +1.8254484j , -1.        +1.03735422j,\n",
            "          -1.        -0.11852423j, -1.        -1.23238102j,\n",
            "          -1.        -1.9093086j , -1.        -1.9093086j ,\n",
            "          -1.        -1.23238102j, -1.        -0.11852423j,\n",
            "          -1.        +1.03735422j, -1.        +1.8254484j ],\n",
            "         [-1.39038457+2.358148j  , -1.12084048+1.61758172j,\n",
            "          -0.72550677+0.53141127j, -0.34454531-0.51527174j,\n",
            "          -0.11302244-1.15137559j, -0.11302244-1.15137559j,\n",
            "          -0.34454531-0.51527174j, -0.72550677+0.53141127j,\n",
            "          -1.12084048+1.61758172j, -1.39038457+2.358148j  ],\n",
            "         [-1.34702379+2.38318235j, -0.84044662+1.77946719j,\n",
            "          -0.09746227+0.89401293j,  0.61851107+0.04074912j,\n",
            "           1.05363173-0.47780749j,  1.05363173-0.47780749j,\n",
            "           0.61851107+0.04074912j, -0.09746227+0.89401293j,\n",
            "          -0.84044662+1.77946719j, -1.34702379+2.38318235j],\n",
            "         [-1.08088468+1.7787496j , -0.39837511+1.38470252j,\n",
            "           0.60264499+0.80676329j,  1.56727327+0.2498349j ,\n",
            "           2.15350975-0.08862889j,  2.15350975-0.08862889j,\n",
            "           1.56727327+0.2498349j ,  0.60264499+0.80676329j,\n",
            "          -0.39837511+1.38470252j, -1.08088468+1.7787496j ],\n",
            "         [-0.85802311+0.65900593j, -0.08190186+0.52215481j,\n",
            "           1.0564162 +0.32143863j,  2.153351  +0.12801943j,\n",
            "           2.81999453+0.01047219j,  2.81999453+0.01047219j,\n",
            "           2.153351  +0.12801943j,  1.0564162 +0.32143863j,\n",
            "          -0.08190186+0.52215481j, -0.85802311+0.65900593j],\n",
            "         [-0.85802311-0.65900593j, -0.08190186-0.52215481j,\n",
            "           1.0564162 -0.32143863j,  2.153351  -0.12801943j,\n",
            "           2.81999453-0.01047219j,  2.81999453-0.01047219j,\n",
            "           2.153351  -0.12801943j,  1.0564162 -0.32143863j,\n",
            "          -0.08190186-0.52215481j, -0.85802311-0.65900593j],\n",
            "         [-1.08088468-1.7787496j , -0.39837511-1.38470252j,\n",
            "           0.60264499-0.80676329j,  1.56727327-0.2498349j ,\n",
            "           2.15350975+0.08862889j,  2.15350975+0.08862889j,\n",
            "           1.56727327-0.2498349j ,  0.60264499-0.80676329j,\n",
            "          -0.39837511-1.38470252j, -1.08088468-1.7787496j ],\n",
            "         [-1.34702379-2.38318235j, -0.84044662-1.77946719j,\n",
            "          -0.09746227-0.89401293j,  0.61851107-0.04074912j,\n",
            "           1.05363173+0.47780749j,  1.05363173+0.47780749j,\n",
            "           0.61851107-0.04074912j, -0.09746227-0.89401293j,\n",
            "          -0.84044662-1.77946719j, -1.34702379-2.38318235j],\n",
            "         [-1.39038457-2.358148j  , -1.12084048-1.61758172j,\n",
            "          -0.72550677-0.53141127j, -0.34454531+0.51527174j,\n",
            "          -0.11302244+1.15137559j, -0.11302244+1.15137559j,\n",
            "          -0.34454531+0.51527174j, -0.72550677-0.53141127j,\n",
            "          -1.12084048-1.61758172j, -1.39038457-2.358148j  ],\n",
            "         [-1.        -1.8254484j , -1.        -1.03735422j,\n",
            "          -1.        +0.11852423j, -1.        +1.23238102j,\n",
            "          -1.        +1.9093086j , -1.        +1.9093086j ,\n",
            "          -1.        +1.23238102j, -1.        +0.11852423j,\n",
            "          -1.        -1.03735422j, -1.        -1.8254484j ]]) 0]]\n"
          ]
        },
        {
          "output_type": "stream",
          "name": "stderr",
          "text": [
            "/usr/local/lib/python3.7/dist-packages/numpy/matrixlib/defmatrix.py:145: VisibleDeprecationWarning: Creating an ndarray from ragged nested sequences (which is a list-or-tuple of lists-or-tuples-or ndarrays with different lengths or shapes) is deprecated. If you meant to do this, you must specify 'dtype=object' when creating the ndarray.\n",
            "  arr = N.array(data, dtype=dtype, copy=copy)\n"
          ]
        }
      ]
    },
    {
      "cell_type": "markdown",
      "source": [
        "Task 2"
      ],
      "metadata": {
        "id": "HpKxFcH2_N2I"
      },
      "id": "HpKxFcH2_N2I"
    },
    {
      "cell_type": "code",
      "source": [
        "#This part does not work because the part above does not work.\n",
        "\n",
        "h = plt.contourf(x, y, eigval[0])\n",
        "plt.colorbar()\n",
        "\n",
        "h = plt.contourf(x, y, eigval[1])\n",
        "plt.colorbar()"
      ],
      "metadata": {
        "id": "P2aauY9i7_Uw"
      },
      "id": "P2aauY9i7_Uw",
      "execution_count": 22,
      "outputs": []
    },
    {
      "cell_type": "markdown",
      "source": [
        "Task 3: https://github.com/MichelleSchaefer/CourseML4MS.git"
      ],
      "metadata": {
        "id": "f-ov5urGBUmN"
      },
      "id": "f-ov5urGBUmN"
    }
  ],
  "metadata": {
    "kernelspec": {
      "display_name": "Python 3 (ipykernel)",
      "language": "python",
      "name": "python3"
    },
    "language_info": {
      "codemirror_mode": {
        "name": "ipython",
        "version": 3
      },
      "file_extension": ".py",
      "mimetype": "text/x-python",
      "name": "python",
      "nbconvert_exporter": "python",
      "pygments_lexer": "ipython3",
      "version": "3.9.7"
    },
    "colab": {
      "name": "homework2_MichelleSchäfer.ipynb",
      "provenance": []
    }
  },
  "nbformat": 4,
  "nbformat_minor": 5
}